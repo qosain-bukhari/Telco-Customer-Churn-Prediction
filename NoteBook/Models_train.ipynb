{
 "cells": [
  {
   "cell_type": "code",
   "execution_count": 53,
   "id": "d0503bc4",
   "metadata": {},
   "outputs": [],
   "source": [
    "import pandas as pd\n",
    "import numpy as np\n",
    "import matplotlib.pyplot as plt\n",
    "import seaborn as sns"
   ]
  },
  {
   "cell_type": "code",
   "execution_count": 54,
   "id": "30ef95d4",
   "metadata": {},
   "outputs": [
    {
     "data": {
      "text/html": [
       "<div>\n",
       "<style scoped>\n",
       "    .dataframe tbody tr th:only-of-type {\n",
       "        vertical-align: middle;\n",
       "    }\n",
       "\n",
       "    .dataframe tbody tr th {\n",
       "        vertical-align: top;\n",
       "    }\n",
       "\n",
       "    .dataframe thead th {\n",
       "        text-align: right;\n",
       "    }\n",
       "</style>\n",
       "<table border=\"1\" class=\"dataframe\">\n",
       "  <thead>\n",
       "    <tr style=\"text-align: right;\">\n",
       "      <th></th>\n",
       "      <th>Unnamed: 0.1</th>\n",
       "      <th>Unnamed: 0</th>\n",
       "      <th>gender</th>\n",
       "      <th>SeniorCitizen</th>\n",
       "      <th>Partner</th>\n",
       "      <th>Dependents</th>\n",
       "      <th>tenure</th>\n",
       "      <th>PhoneService</th>\n",
       "      <th>MultipleLines</th>\n",
       "      <th>InternetService</th>\n",
       "      <th>...</th>\n",
       "      <th>StreamingMovies</th>\n",
       "      <th>Contract</th>\n",
       "      <th>PaperlessBilling</th>\n",
       "      <th>PaymentMethod</th>\n",
       "      <th>MonthlyCharges</th>\n",
       "      <th>TotalCharges</th>\n",
       "      <th>tenure_group</th>\n",
       "      <th>total_services</th>\n",
       "      <th>avg_charge_per_service</th>\n",
       "      <th>Churn</th>\n",
       "    </tr>\n",
       "  </thead>\n",
       "  <tbody>\n",
       "    <tr>\n",
       "      <th>0</th>\n",
       "      <td>0</td>\n",
       "      <td>0</td>\n",
       "      <td>0</td>\n",
       "      <td>0</td>\n",
       "      <td>1</td>\n",
       "      <td>0</td>\n",
       "      <td>1</td>\n",
       "      <td>0</td>\n",
       "      <td>1</td>\n",
       "      <td>0</td>\n",
       "      <td>...</td>\n",
       "      <td>0</td>\n",
       "      <td>0</td>\n",
       "      <td>1</td>\n",
       "      <td>2</td>\n",
       "      <td>29.85</td>\n",
       "      <td>29.85</td>\n",
       "      <td>0</td>\n",
       "      <td>3</td>\n",
       "      <td>7.462500</td>\n",
       "      <td>0</td>\n",
       "    </tr>\n",
       "    <tr>\n",
       "      <th>1</th>\n",
       "      <td>1</td>\n",
       "      <td>1</td>\n",
       "      <td>1</td>\n",
       "      <td>0</td>\n",
       "      <td>0</td>\n",
       "      <td>0</td>\n",
       "      <td>34</td>\n",
       "      <td>1</td>\n",
       "      <td>0</td>\n",
       "      <td>0</td>\n",
       "      <td>...</td>\n",
       "      <td>0</td>\n",
       "      <td>1</td>\n",
       "      <td>0</td>\n",
       "      <td>3</td>\n",
       "      <td>56.95</td>\n",
       "      <td>1889.50</td>\n",
       "      <td>2</td>\n",
       "      <td>5</td>\n",
       "      <td>9.491667</td>\n",
       "      <td>0</td>\n",
       "    </tr>\n",
       "    <tr>\n",
       "      <th>2</th>\n",
       "      <td>2</td>\n",
       "      <td>2</td>\n",
       "      <td>1</td>\n",
       "      <td>0</td>\n",
       "      <td>0</td>\n",
       "      <td>0</td>\n",
       "      <td>2</td>\n",
       "      <td>1</td>\n",
       "      <td>0</td>\n",
       "      <td>0</td>\n",
       "      <td>...</td>\n",
       "      <td>0</td>\n",
       "      <td>0</td>\n",
       "      <td>1</td>\n",
       "      <td>3</td>\n",
       "      <td>53.85</td>\n",
       "      <td>108.15</td>\n",
       "      <td>0</td>\n",
       "      <td>5</td>\n",
       "      <td>8.975000</td>\n",
       "      <td>1</td>\n",
       "    </tr>\n",
       "    <tr>\n",
       "      <th>3</th>\n",
       "      <td>3</td>\n",
       "      <td>3</td>\n",
       "      <td>1</td>\n",
       "      <td>0</td>\n",
       "      <td>0</td>\n",
       "      <td>0</td>\n",
       "      <td>45</td>\n",
       "      <td>0</td>\n",
       "      <td>1</td>\n",
       "      <td>0</td>\n",
       "      <td>...</td>\n",
       "      <td>0</td>\n",
       "      <td>1</td>\n",
       "      <td>0</td>\n",
       "      <td>0</td>\n",
       "      <td>42.30</td>\n",
       "      <td>1840.75</td>\n",
       "      <td>2</td>\n",
       "      <td>7</td>\n",
       "      <td>5.287500</td>\n",
       "      <td>0</td>\n",
       "    </tr>\n",
       "    <tr>\n",
       "      <th>4</th>\n",
       "      <td>4</td>\n",
       "      <td>4</td>\n",
       "      <td>0</td>\n",
       "      <td>0</td>\n",
       "      <td>0</td>\n",
       "      <td>0</td>\n",
       "      <td>2</td>\n",
       "      <td>1</td>\n",
       "      <td>0</td>\n",
       "      <td>1</td>\n",
       "      <td>...</td>\n",
       "      <td>0</td>\n",
       "      <td>0</td>\n",
       "      <td>1</td>\n",
       "      <td>2</td>\n",
       "      <td>70.70</td>\n",
       "      <td>151.65</td>\n",
       "      <td>0</td>\n",
       "      <td>2</td>\n",
       "      <td>23.566667</td>\n",
       "      <td>1</td>\n",
       "    </tr>\n",
       "  </tbody>\n",
       "</table>\n",
       "<p>5 rows × 25 columns</p>\n",
       "</div>"
      ],
      "text/plain": [
       "   Unnamed: 0.1  Unnamed: 0  gender  SeniorCitizen  Partner  Dependents  \\\n",
       "0             0           0       0              0        1           0   \n",
       "1             1           1       1              0        0           0   \n",
       "2             2           2       1              0        0           0   \n",
       "3             3           3       1              0        0           0   \n",
       "4             4           4       0              0        0           0   \n",
       "\n",
       "   tenure  PhoneService  MultipleLines  InternetService  ...  StreamingMovies  \\\n",
       "0       1             0              1                0  ...                0   \n",
       "1      34             1              0                0  ...                0   \n",
       "2       2             1              0                0  ...                0   \n",
       "3      45             0              1                0  ...                0   \n",
       "4       2             1              0                1  ...                0   \n",
       "\n",
       "   Contract  PaperlessBilling  PaymentMethod  MonthlyCharges  TotalCharges  \\\n",
       "0         0                 1              2           29.85         29.85   \n",
       "1         1                 0              3           56.95       1889.50   \n",
       "2         0                 1              3           53.85        108.15   \n",
       "3         1                 0              0           42.30       1840.75   \n",
       "4         0                 1              2           70.70        151.65   \n",
       "\n",
       "   tenure_group  total_services  avg_charge_per_service  Churn  \n",
       "0             0               3                7.462500      0  \n",
       "1             2               5                9.491667      0  \n",
       "2             0               5                8.975000      1  \n",
       "3             2               7                5.287500      0  \n",
       "4             0               2               23.566667      1  \n",
       "\n",
       "[5 rows x 25 columns]"
      ]
     },
     "execution_count": 54,
     "metadata": {},
     "output_type": "execute_result"
    }
   ],
   "source": [
    "df=pd.read_csv('../Data/Featured_Data.csv')\n",
    "df.head()"
   ]
  },
  {
   "cell_type": "code",
   "execution_count": 55,
   "id": "26841a91",
   "metadata": {},
   "outputs": [
    {
     "data": {
      "text/plain": [
       "((4914, 24), (2107, 24))"
      ]
     },
     "execution_count": 55,
     "metadata": {},
     "output_type": "execute_result"
    }
   ],
   "source": [
    "from sklearn.model_selection import train_test_split\n",
    "X_train,X_test,y_train,y_test=train_test_split(X,y,test_size=0.3,random_state=42)\n",
    "X_train.shape,X_test.shape"
   ]
  },
  {
   "cell_type": "code",
   "execution_count": 56,
   "id": "3a189856",
   "metadata": {},
   "outputs": [],
   "source": [
    "from sklearn.impute import SimpleImputer\n",
    "\n",
    "imputer = SimpleImputer(strategy='median')  # or 'mean' or 'most_frequent'\n",
    "X_train = pd.DataFrame(imputer.fit_transform(X_train), columns=X_train.columns)\n",
    "X_test = pd.DataFrame(imputer.transform(X_test), columns=X_test.columns)"
   ]
  },
  {
   "cell_type": "code",
   "execution_count": 57,
   "id": "13cd4fc2",
   "metadata": {},
   "outputs": [],
   "source": [
    "X_train = X_train.dropna()\n",
    "X_test = X_test.dropna()"
   ]
  },
  {
   "cell_type": "code",
   "execution_count": 58,
   "id": "616c49c8",
   "metadata": {},
   "outputs": [],
   "source": [
    "X=df.drop(columns=['Churn'],axis=1)\n",
    "y=df['Churn']"
   ]
  },
  {
   "cell_type": "code",
   "execution_count": 59,
   "id": "1887cf4e",
   "metadata": {},
   "outputs": [
    {
     "data": {
      "text/plain": [
       "Churn\n",
       "0    5164\n",
       "1    1857\n",
       "Name: count, dtype: int64"
      ]
     },
     "execution_count": 59,
     "metadata": {},
     "output_type": "execute_result"
    }
   ],
   "source": [
    "y.value_counts()"
   ]
  },
  {
   "cell_type": "code",
   "execution_count": null,
   "id": "c2f8fcbb",
   "metadata": {},
   "outputs": [],
   "source": [
    "from sklearn.model_selection import train_test_split\n",
    "from sklearn.linear_model import LogisticRegression\n",
    "from sklearn.ensemble import RandomForestClassifier, AdaBoostClassifier, GradientBoostingClassifier\n",
    "from sklearn.tree import DecisionTreeClassifier\n",
    "from xgboost import XGBClassifier\n",
    "from sklearn.metrics import accuracy_score, precision_score, recall_score, f1_score, roc_auc_score\n"
   ]
  },
  {
   "cell_type": "code",
   "execution_count": 61,
   "id": "853c95ad",
   "metadata": {},
   "outputs": [
    {
     "name": "stdout",
     "output_type": "stream",
     "text": [
      "Model: DecisionTree\n",
      "Train Set - Accuracy: 1.00, Precision: 1.00, Recall: 1.00, F1 Score: 1.00, ROC AUC: 1.00\n",
      "Test Set  - Accuracy: 0.73, Precision: 0.48, Recall: 0.52, F1 Score: 0.73, ROC AUC: 0.66\n",
      "============================================================\n"
     ]
    },
    {
     "name": "stderr",
     "output_type": "stream",
     "text": [
      "C:\\Users\\Qosain\\AppData\\Roaming\\Python\\Python310\\site-packages\\sklearn\\linear_model\\_logistic.py:465: ConvergenceWarning: lbfgs failed to converge (status=1):\n",
      "STOP: TOTAL NO. OF ITERATIONS REACHED LIMIT.\n",
      "\n",
      "Increase the number of iterations (max_iter) or scale the data as shown in:\n",
      "    https://scikit-learn.org/stable/modules/preprocessing.html\n",
      "Please also refer to the documentation for alternative solver options:\n",
      "    https://scikit-learn.org/stable/modules/linear_model.html#logistic-regression\n",
      "  n_iter_i = _check_optimize_result(\n"
     ]
    },
    {
     "name": "stdout",
     "output_type": "stream",
     "text": [
      "Model: LogisticRegression\n",
      "Train Set - Accuracy: 0.81, Precision: 0.66, Recall: 0.57, F1 Score: 0.80, ROC AUC: 0.85\n",
      "Test Set  - Accuracy: 0.79, Precision: 0.62, Recall: 0.54, F1 Score: 0.79, ROC AUC: 0.85\n",
      "============================================================\n",
      "Model: RandomForest\n",
      "Train Set - Accuracy: 1.00, Precision: 1.00, Recall: 1.00, F1 Score: 1.00, ROC AUC: 1.00\n",
      "Test Set  - Accuracy: 0.80, Precision: 0.65, Recall: 0.49, F1 Score: 0.79, ROC AUC: 0.82\n",
      "============================================================\n",
      "Model: AdaBoost\n",
      "Train Set - Accuracy: 0.81, Precision: 0.67, Recall: 0.55, F1 Score: 0.80, ROC AUC: 0.85\n",
      "Test Set  - Accuracy: 0.80, Precision: 0.64, Recall: 0.52, F1 Score: 0.79, ROC AUC: 0.85\n",
      "============================================================\n",
      "Model: GradientBoosting\n",
      "Train Set - Accuracy: 0.83, Precision: 0.74, Recall: 0.57, F1 Score: 0.82, ROC AUC: 0.89\n",
      "Test Set  - Accuracy: 0.79, Precision: 0.64, Recall: 0.48, F1 Score: 0.78, ROC AUC: 0.84\n",
      "============================================================\n",
      "Model: Xgboost\n",
      "Train Set - Accuracy: 0.98, Precision: 0.96, Recall: 0.97, F1 Score: 0.98, ROC AUC: 1.00\n",
      "Test Set  - Accuracy: 0.78, Precision: 0.60, Recall: 0.50, F1 Score: 0.78, ROC AUC: 0.81\n",
      "============================================================\n"
     ]
    }
   ],
   "source": [
    "\n",
    "Models = {\n",
    "    'DecisionTree': DecisionTreeClassifier(),\n",
    "    'LogisticRegression': LogisticRegression(max_iter=1000),\n",
    "    'RandomForest': RandomForestClassifier(),\n",
    "    'AdaBoost': AdaBoostClassifier(),\n",
    "    'GradientBoosting': GradientBoostingClassifier(),\n",
    "    'Xgboost':XGBClassifier()\n",
    "}\n",
    "\n",
    "for name, model in Models.items():\n",
    "    model.fit(X_train, y_train)\n",
    "    y_train_pred = model.predict(X_train)\n",
    "    y_test_pred = model.predict(X_test)\n",
    "    \n",
    "    # Some models may not have predict_proba (e.g., SVC if probability=False)\n",
    "    if hasattr(model, \"predict_proba\"):\n",
    "        y_train_proba = model.predict_proba(X_train)[:, 1]\n",
    "        y_test_proba = model.predict_proba(X_test)[:, 1]\n",
    "    else:\n",
    "        # Use decision_function as a fallback for ROC AUC\n",
    "        y_train_proba = model.decision_function(X_train)\n",
    "        y_test_proba = model.decision_function(X_test)\n",
    "    \n",
    "    # Train Metrics\n",
    "    model_train_accuracy = accuracy_score(y_train, y_train_pred)\n",
    "    model_train_f1 = f1_score(y_train, y_train_pred, average='weighted')\n",
    "    model_train_precision = precision_score(y_train, y_train_pred)\n",
    "    model_train_recall = recall_score(y_train, y_train_pred)\n",
    "    model_train_roc_auc = roc_auc_score(y_train, y_train_proba)\n",
    "    \n",
    "    # Test Metrics\n",
    "    model_test_accuracy = accuracy_score(y_test, y_test_pred)\n",
    "    model_test_f1 = f1_score(y_test, y_test_pred, average='weighted')\n",
    "    model_test_precision = precision_score(y_test, y_test_pred)\n",
    "    model_test_recall = recall_score(y_test, y_test_pred)\n",
    "    model_test_roc_auc = roc_auc_score(y_test, y_test_proba)\n",
    "    \n",
    "    print(f\"Model: {name}\")\n",
    "    print(f\"Train Set - Accuracy: {model_train_accuracy:.2f}, Precision: {model_train_precision:.2f}, Recall: {model_train_recall:.2f}, F1 Score: {model_train_f1:.2f}, ROC AUC: {model_train_roc_auc:.2f}\")\n",
    "    print(f\"Test Set  - Accuracy: {model_test_accuracy:.2f}, Precision: {model_test_precision:.2f}, Recall: {model_test_recall:.2f}, F1 Score: {model_test_f1:.2f}, ROC AUC: {model_test_roc_auc:.2f}\")\n",
    "    print(\"=\"*60)"
   ]
  },
  {
   "cell_type": "code",
   "execution_count": 62,
   "id": "8426130e",
   "metadata": {},
   "outputs": [],
   "source": [
    "from sklearn.model_selection import RandomizedSearchCV \n",
    "# Random Forest\n",
    "rf_grid = {\n",
    "    'n_estimators': [100, 200],\n",
    "    'max_depth': [None, 10, 20],\n",
    "    'min_samples_split': [2, 5],\n",
    "}\n",
    "\n",
    "# Gradient Boosting\n",
    "gb_grid = {\n",
    "    'n_estimators': [100, 150],\n",
    "    'learning_rate': [0.05, 0.1],\n",
    "    'max_depth': [3, 5],\n",
    "}\n",
    "\n",
    "# XGBoost\n",
    "xgb_grid = {\n",
    "    'n_estimators': [100, 200],\n",
    "    'learning_rate': [0.05, 0.1],\n",
    "    'max_depth': [3, 6],\n",
    "    'subsample': [0.8, 1.0],\n",
    "}\n",
    "\n",
    "# Logistic Regression\n",
    "lr_grid = {\n",
    "    'C': [0.1, 1.0, 10.0],\n",
    "    'penalty': ['l2'],\n",
    "    'solver': ['lbfgs']\n",
    "}\n",
    "\n",
    "\n"
   ]
  },
  {
   "cell_type": "code",
   "execution_count": 63,
   "id": "a549faf1",
   "metadata": {},
   "outputs": [],
   "source": [
    "randomcv_models = [\n",
    "    ('RandomForest', RandomForestClassifier(), rf_grid),\n",
    "    ('GradientBoosting', GradientBoostingClassifier(), gb_grid),\n",
    "    ('XGBoost', XGBClassifier(use_label_encoder=False, eval_metric='logloss'), xgb_grid),\n",
    "    ('LogisticRegression', LogisticRegression(max_iter=1000), lr_grid),\n",
    "]\n"
   ]
  },
  {
   "cell_type": "code",
   "execution_count": 64,
   "id": "2180abfe",
   "metadata": {},
   "outputs": [
    {
     "name": "stdout",
     "output_type": "stream",
     "text": [
      "\n",
      "🔍 Tuning hyperparameters for RandomForest...\n",
      "\n",
      "Fitting 5 folds for each of 10 candidates, totalling 50 fits\n",
      "\n",
      "✅ Best hyperparameters for RandomForest: {'n_estimators': 200, 'min_samples_split': 5, 'max_depth': 10}\n",
      "✅ Best score for RandomForest: 0.8036\n",
      "\n",
      "🔍 Tuning hyperparameters for GradientBoosting...\n",
      "\n",
      "Fitting 5 folds for each of 8 candidates, totalling 40 fits\n"
     ]
    },
    {
     "name": "stderr",
     "output_type": "stream",
     "text": [
      "C:\\Users\\Qosain\\AppData\\Roaming\\Python\\Python310\\site-packages\\sklearn\\model_selection\\_search.py:317: UserWarning: The total space of parameters 8 is smaller than n_iter=10. Running 8 iterations. For exhaustive searches, use GridSearchCV.\n",
      "  warnings.warn(\n"
     ]
    },
    {
     "name": "stdout",
     "output_type": "stream",
     "text": [
      "\n",
      "✅ Best hyperparameters for GradientBoosting: {'n_estimators': 100, 'max_depth': 3, 'learning_rate': 0.05}\n",
      "✅ Best score for GradientBoosting: 0.8034\n",
      "\n",
      "🔍 Tuning hyperparameters for XGBoost...\n",
      "\n",
      "Fitting 5 folds for each of 10 candidates, totalling 50 fits\n",
      "\n",
      "✅ Best hyperparameters for XGBoost: {'subsample': 0.8, 'n_estimators': 100, 'max_depth': 3, 'learning_rate': 0.05}\n",
      "✅ Best score for XGBoost: 0.8075\n",
      "\n",
      "🔍 Tuning hyperparameters for LogisticRegression...\n",
      "\n",
      "Fitting 5 folds for each of 3 candidates, totalling 15 fits\n"
     ]
    },
    {
     "name": "stderr",
     "output_type": "stream",
     "text": [
      "C:\\Users\\Qosain\\AppData\\Roaming\\Python\\Python310\\site-packages\\sklearn\\model_selection\\_search.py:317: UserWarning: The total space of parameters 3 is smaller than n_iter=10. Running 3 iterations. For exhaustive searches, use GridSearchCV.\n",
      "  warnings.warn(\n"
     ]
    },
    {
     "name": "stdout",
     "output_type": "stream",
     "text": [
      "\n",
      "✅ Best hyperparameters for LogisticRegression: {'solver': 'lbfgs', 'penalty': 'l2', 'C': 0.1}\n",
      "✅ Best score for LogisticRegression: 0.8034\n"
     ]
    },
    {
     "name": "stderr",
     "output_type": "stream",
     "text": [
      "C:\\Users\\Qosain\\AppData\\Roaming\\Python\\Python310\\site-packages\\sklearn\\linear_model\\_logistic.py:465: ConvergenceWarning: lbfgs failed to converge (status=1):\n",
      "STOP: TOTAL NO. OF ITERATIONS REACHED LIMIT.\n",
      "\n",
      "Increase the number of iterations (max_iter) or scale the data as shown in:\n",
      "    https://scikit-learn.org/stable/modules/preprocessing.html\n",
      "Please also refer to the documentation for alternative solver options:\n",
      "    https://scikit-learn.org/stable/modules/linear_model.html#logistic-regression\n",
      "  n_iter_i = _check_optimize_result(\n"
     ]
    }
   ],
   "source": [
    "best_models = {}\n",
    "\n",
    "for name, model, params in randomcv_models:\n",
    "    print(f\"\\n🔍 Tuning hyperparameters for {name}...\\n\")\n",
    "    random_search = RandomizedSearchCV(\n",
    "        estimator=model,\n",
    "        param_distributions=params,\n",
    "        n_iter=10,               # You can change it to 50 for better results\n",
    "        scoring='accuracy',\n",
    "        cv=5,\n",
    "        verbose=2,\n",
    "        n_jobs=-1,\n",
    "        random_state=42\n",
    "    )\n",
    "\n",
    "    random_search.fit(X_train, y_train)   # Make sure X_train and y_train are defined\n",
    "    best_models[name] = random_search.best_estimator_\n",
    "\n",
    "    print(f\"\\n✅ Best hyperparameters for {name}: {random_search.best_params_}\")\n",
    "    print(f\"✅ Best score for {name}: {random_search.best_score_:.4f}\")\n"
   ]
  },
  {
   "cell_type": "code",
   "execution_count": null,
   "id": "5722763e",
   "metadata": {},
   "outputs": [
    {
     "name": "stdout",
     "output_type": "stream",
     "text": [
      "Model Performance:\n",
      "RandomForest: Accuracy = 0.7983, ROC AUC = 0.8369\n",
      "GradientBoosting: Accuracy = 0.7945, ROC AUC = 0.8417\n",
      "XGBoost: Accuracy = 0.7959, ROC AUC = 0.8447\n",
      "LogisticRegression: Accuracy = 0.7969, ROC AUC = 0.8444\n"
     ]
    }
   ],
   "source": [
    "from sklearn.metrics import accuracy_score, roc_auc_score\n",
    "\n",
    "model_scores = {}\n",
    "\n",
    "for name, model_dict in best_models.items():\n",
    "   \n",
    "    model = model_dict['model'] if isinstance(model_dict, dict) else model_dict\n",
    "\n",
    "    y_pred = model.predict(X_test)\n",
    "\n",
    "\n",
    "    if hasattr(model, \"predict_proba\"):\n",
    "        y_proba = model.predict_proba(X_test)[:, 1]  \n",
    "        roc_auc = roc_auc_score(y_test, y_proba)\n",
    "    else:\n",
    "        roc_auc = None  \n",
    "\n",
    "\n",
    "    accuracy = accuracy_score(y_test, y_pred)\n",
    "\n",
    "\n",
    "    model_scores[name] = {\n",
    "        'accuracy': accuracy,\n",
    "        'roc_auc': roc_auc\n",
    "    }\n",
    "\n",
    "print(\"Model Performance:\")\n",
    "for name, scores in model_scores.items():\n",
    "    print(f\"{name}: Accuracy = {scores['accuracy']:.4f}, ROC AUC = {scores['roc_auc']:.4f}\")\n",
    "\n"
   ]
  },
  {
   "cell_type": "code",
   "execution_count": 82,
   "id": "5ed946a7",
   "metadata": {},
   "outputs": [
    {
     "name": "stdout",
     "output_type": "stream",
     "text": [
      "\n",
      "✅ Best Model: RandomForest\n",
      "Accuracy: 0.7983\n",
      "ROC AUC: 0.8369\n"
     ]
    }
   ],
   "source": [
    "# Select best model by both accuracy and ROC AUC\n",
    "best_model_name = max(model_scores, key=lambda name: (model_scores[name]['accuracy'], model_scores[name]['roc_auc']))\n",
    "best_model = best_models[best_model_name]['model'] if isinstance(best_models[best_model_name], dict) else best_models[best_model_name]\n",
    "\n",
    "print(f\"\\n✅ Best Model: {best_model_name}\")\n",
    "print(f\"Accuracy: {model_scores[best_model_name]['accuracy']:.4f}\")\n",
    "print(f\"ROC AUC: {model_scores[best_model_name]['roc_auc']:.4f}\")\n"
   ]
  },
  {
   "cell_type": "code",
   "execution_count": null,
   "id": "7864b772",
   "metadata": {},
   "outputs": [
    {
     "data": {
      "image/png": "[encoded data removed]",
      "text/plain": [
       "<Figure size 800x500 with 1 Axes>"
      ]
     },
     "metadata": {},
     "output_type": "display_data"
    }
   ],
   "source": [
    "import matplotlib.pyplot as plt\n",
    "from sklearn.metrics import roc_curve\n",
    "\n",
    "\n",
    "y_proba_best = best_model.predict_proba(X_test)[:, 1]\n",
    "\n",
    "fpr, tpr, thresholds = roc_curve(y_test, y_proba_best)\n",
    "\n",
    "plt.figure(figsize=(8, 5))\n",
    "plt.plot(fpr, tpr, label=f\"{best_model_name} (AUC = {model_scores[best_model_name]['roc_auc']:.4f})\")\n",
    "plt.plot([0, 1], [0, 1], 'k--', label=\"Random Classifier\")\n",
    "plt.xlabel(\"False Positive Rate\")\n",
    "plt.ylabel(\"True Positive Rate\")\n",
    "plt.title(\"ROC Curve\")\n",
    "plt.legend()\n",
    "plt.grid(True)\n",
    "plt.show()\n"
   ]
  }
 ],
 "metadata": {
  "kernelspec": {
   "display_name": "Python 3",
   "language": "python",
   "name": "python3"
  },
  "language_info": {
   "codemirror_mode": {
    "name": "ipython",
    "version": 3
   },
   "file_extension": ".py",
   "mimetype": "text/x-python",
   "name": "python",
   "nbconvert_exporter": "python",
   "pygments_lexer": "ipython3",
   "version": "3.10.11"
  }
 },
 "nbformat": 4,
 "nbformat_minor": 5
}
